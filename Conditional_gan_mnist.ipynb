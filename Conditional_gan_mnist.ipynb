{
  "nbformat": 4,
  "nbformat_minor": 0,
  "metadata": {
    "colab": {
      "name": "Copy of conditional_gan_mnist.ipynb",
      "version": "0.3.2",
      "provenance": [],
      "collapsed_sections": []
    },
    "kernelspec": {
      "name": "python3",
      "display_name": "Python 3"
    },
    "accelerator": "GPU"
  },
  "cells": [
    {
      "metadata": {
        "id": "rC9x4Qq4Wujt",
        "colab_type": "code",
        "colab": {}
      },
      "cell_type": "code",
      "source": [
        "import numpy as np\n",
        "import torch\n",
        "from torch import nn, optim\n",
        "\n",
        "import torch.nn.functional as F\n",
        "from torch.autograd import Variable\n",
        "from torch.utils.data import DataLoader\n",
        "import torchvision\n",
        "from torchvision.utils import save_image\n",
        "from torchvision import datasets, transforms"
      ],
      "execution_count": 0,
      "outputs": []
    },
    {
      "metadata": {
        "id": "YpHFraa5W0J9",
        "colab_type": "code",
        "colab": {}
      },
      "cell_type": "code",
      "source": [
        "\n",
        "model = None\n",
        "use_cuda = True\n",
        "if use_cuda and torch.cuda.is_available() and model is not None:\n",
        "    model.cuda()\n",
        "    \n",
        "# GAN Lecture 2 (2018): Conditional Generator"
      ],
      "execution_count": 0,
      "outputs": []
    },
    {
      "metadata": {
        "id": "X8MwydtaXCvj",
        "colab_type": "code",
        "colab": {}
      },
      "cell_type": "code",
      "source": [
        "class ModelDiscriminator(nn.Module):\n",
        "    def __init__(self):\n",
        "        super(ModelDiscriminator, self).__init__()\n",
        "        self.conv1 = nn.Conv2d(1, 32, 5, 1, 2)\n",
        "        self.bn1 = nn.BatchNorm2d(32)\n",
        "        self.conv2 = nn.Conv2d(32, 64, 5, 1, 2)\n",
        "        self.bn2 = nn.BatchNorm2d(64)\n",
        "        self.fc1  = nn.Linear(64*28*28+1000, 1024)\n",
        "        self.fc2 = nn.Linear(1024, 1)\n",
        "        self.fc3 = nn.Linear(10, 1000)\n",
        "\n",
        "    def forward(self, x, labels):\n",
        "        \"\"\"\n",
        "        x obj\n",
        "        \"\"\"\n",
        "        batch_size = x.size(0)\n",
        "        x = x.view(batch_size, 1, 28,28)\n",
        "        x = self.conv1(x)\n",
        "        x = self.bn1(x)\n",
        "        x = F.relu(x)\n",
        "        x = self.conv2(x)\n",
        "        x = self.bn2(x)\n",
        "        x = F.relu(x)\n",
        "        x = x.view(batch_size, 64*28*28)\n",
        "        \n",
        "        \n",
        "        \n",
        "        y_ = self.fc3(labels)\n",
        "        y_ = F.relu(y_)\n",
        "        # obj -> NN -> emb\n",
        "        # label -> NN  -> emb2 \n",
        "        # emb + emb2 -> NN -> score\n",
        "        # usual archi -> weakness: dk whether is label and x dont match or x realistic or not\n",
        "        \n",
        "        # obj -> NN -> emb + x realistic not (score)\n",
        "        # label + emb -> NN -> whether c and x match\n",
        "        \n",
        "        x = torch.cat([x, y_], 1)\n",
        "        \n",
        "        x = self.fc1(x)\n",
        "        x = F.relu(x)\n",
        "        x = self.fc2(x)\n",
        "        return torch.sigmoid(x)"
      ],
      "execution_count": 0,
      "outputs": []
    },
    {
      "metadata": {
        "id": "aD9XnaGFZSQF",
        "colab_type": "code",
        "colab": {}
      },
      "cell_type": "code",
      "source": [
        "\n",
        "class ModelGenerator(nn.Module):\n",
        "    def __init__(self, z_dim):\n",
        "        ## noise dimension\n",
        "        self.z_dim = z_dim\n",
        "        super(ModelGenerator, self).__init__()\n",
        "        self.fc2 = nn.Linear(10, 1000)\n",
        "        self.fc = nn.Linear(self.z_dim+1000, 64*28*28)\n",
        "        self.bn1 = nn.BatchNorm2d(64)\n",
        "        self.deconv1 = nn.ConvTranspose2d(64, 32, 5, 1, 2)\n",
        "        self.bn2 = nn.BatchNorm2d(32)\n",
        "        self.deconv2 = nn.ConvTranspose2d(32, 1, 5, 1, 2)\n",
        "\n",
        "    def forward(self, x, labels):\n",
        "        batch_size = x.size(0)\n",
        "        y_ = self.fc2(labels)\n",
        "        y_ = F.relu(y_)\n",
        "        x = torch.cat([x, y_], 1)\n",
        "        x = self.fc(x)\n",
        "        x = x.view(batch_size, 64, 28, 28)\n",
        "        x = self.bn1(x) \n",
        "        x = F.relu(x)\n",
        "        x = self.deconv1(x)\n",
        "        x = self.bn2(x)\n",
        "        x = F.relu(x)\n",
        "        x = self.deconv2(x)\n",
        "        x = torch.sigmoid(x)\n",
        "        return x"
      ],
      "execution_count": 0,
      "outputs": []
    },
    {
      "metadata": {
        "id": "T_mpnB4WaOar",
        "colab_type": "code",
        "outputId": "f446112a-d059-4721-d251-2d6206790913",
        "colab": {
          "base_uri": "https://localhost:8080/",
          "height": 572
        }
      },
      "cell_type": "code",
      "source": [
        "train_dataset = datasets.MNIST(root='data',train=True,download=True,transform=transforms.ToTensor())\n",
        "train_loader = DataLoader(train_dataset, 64,shuffle=True)\n",
        "sample1=[i for j,i in enumerate(train_loader) if j == 0 ][0]\n",
        "sample1[0].shape\n",
        "import matplotlib.pyplot as plt\n",
        "print(sample1[0][0].permute(1,2,0).shape)\n",
        "tensor_image = sample1[0][2]\n",
        "tensor_image = tensor_image.view(tensor_image.shape[1], tensor_image.shape[2], tensor_image.shape[0])\n",
        "tensor_image=tensor_image.repeat(1,1,3)\n",
        "print(tensor_image.shape)\n",
        "plt.imshow(tensor_image)"
      ],
      "execution_count": 5,
      "outputs": [
        {
          "output_type": "stream",
          "text": [
            "\r0it [00:00, ?it/s]"
          ],
          "name": "stderr"
        },
        {
          "output_type": "stream",
          "text": [
            "Downloading http://yann.lecun.com/exdb/mnist/train-images-idx3-ubyte.gz to data/MNIST/raw/train-images-idx3-ubyte.gz\n"
          ],
          "name": "stdout"
        },
        {
          "output_type": "stream",
          "text": [
            "9920512it [00:02, 4556662.62it/s]                             \n"
          ],
          "name": "stderr"
        },
        {
          "output_type": "stream",
          "text": [
            "Extracting data/MNIST/raw/train-images-idx3-ubyte.gz\n"
          ],
          "name": "stdout"
        },
        {
          "output_type": "stream",
          "text": [
            "\r0it [00:00, ?it/s]"
          ],
          "name": "stderr"
        },
        {
          "output_type": "stream",
          "text": [
            "Downloading http://yann.lecun.com/exdb/mnist/train-labels-idx1-ubyte.gz to data/MNIST/raw/train-labels-idx1-ubyte.gz\n"
          ],
          "name": "stdout"
        },
        {
          "output_type": "stream",
          "text": [
            "32768it [00:00, 68069.08it/s]                            \n",
            "0it [00:00, ?it/s]"
          ],
          "name": "stderr"
        },
        {
          "output_type": "stream",
          "text": [
            "Extracting data/MNIST/raw/train-labels-idx1-ubyte.gz\n",
            "Downloading http://yann.lecun.com/exdb/mnist/t10k-images-idx3-ubyte.gz to data/MNIST/raw/t10k-images-idx3-ubyte.gz\n"
          ],
          "name": "stdout"
        },
        {
          "output_type": "stream",
          "text": [
            "1654784it [00:01, 1131198.08it/s]                            \n",
            "0it [00:00, ?it/s]"
          ],
          "name": "stderr"
        },
        {
          "output_type": "stream",
          "text": [
            "Extracting data/MNIST/raw/t10k-images-idx3-ubyte.gz\n",
            "Downloading http://yann.lecun.com/exdb/mnist/t10k-labels-idx1-ubyte.gz to data/MNIST/raw/t10k-labels-idx1-ubyte.gz\n"
          ],
          "name": "stdout"
        },
        {
          "output_type": "stream",
          "text": [
            "8192it [00:00, 25674.78it/s]            \n"
          ],
          "name": "stderr"
        },
        {
          "output_type": "stream",
          "text": [
            "Extracting data/MNIST/raw/t10k-labels-idx1-ubyte.gz\n",
            "Processing...\n",
            "Done!\n",
            "torch.Size([28, 28, 1])\n",
            "torch.Size([28, 28, 3])\n"
          ],
          "name": "stdout"
        },
        {
          "output_type": "execute_result",
          "data": {
            "text/plain": [
              "<matplotlib.image.AxesImage at 0x7fcc4fbad3c8>"
            ]
          },
          "metadata": {
            "tags": []
          },
          "execution_count": 5
        },
        {
          "output_type": "display_data",
          "data": {
            "image/png": "[encoded data removed]",
            "text/plain": [
              "<Figure size 432x288 with 1 Axes>"
            ]
          },
          "metadata": {
            "tags": []
          }
        }
      ]
    },
    {
      "metadata": {
        "id": "hlmgS4vuZfFA",
        "colab_type": "code",
        "colab": {}
      },
      "cell_type": "code",
      "source": [
        ""
      ],
      "execution_count": 0,
      "outputs": []
    },
    {
      "metadata": {
        "id": "Nz5iTC22Zp7t",
        "colab_type": "code",
        "colab": {}
      },
      "cell_type": "code",
      "source": [
        "INPUT_SIZE=784 #28*28\n",
        "NUM_LABELS = 10\n",
        "SAMPLE_SIZE = 80\n",
        "noise_dim=100\n",
        "batch_size=128\n",
        "cuda=True\n",
        "\n",
        "#prev lr = 0.001 - too low result in generator instability\n",
        "lr=0.05\n",
        "\n",
        "train_dataset = datasets.MNIST(root='data',train=True,download=True,transform=transforms.ToTensor())\n",
        "train_loader = DataLoader(train_dataset, shuffle=True, batch_size=batch_size)\n",
        "\n",
        "model_d = ModelDiscriminator()\n",
        "model_g = ModelGenerator(noise_dim)\n",
        "criterion = nn.BCELoss()\n",
        "input = torch.FloatTensor(batch_size, INPUT_SIZE)\n",
        "noise = torch.FloatTensor(batch_size, noise_dim)\n",
        "\n",
        "fixed_noise = torch.FloatTensor(SAMPLE_SIZE, noise_dim).normal_(0,1)\n",
        "fixed_labels = torch.zeros(SAMPLE_SIZE, NUM_LABELS)\n",
        "for i in range(NUM_LABELS):\n",
        "    for j in range(SAMPLE_SIZE // NUM_LABELS):\n",
        "        fixed_labels[i*(SAMPLE_SIZE // NUM_LABELS) + j, i] = 1.0\n",
        "        \n",
        "        \n",
        "        \n",
        "label = torch.FloatTensor(batch_size)\n",
        "one_hot_labels = torch.FloatTensor(batch_size, 10)\n",
        "if cuda:\n",
        "    model_d.cuda()\n",
        "    model_g.cuda()\n",
        "    input, label = input.cuda(), label.cuda()\n",
        "    noise, fixed_noise = noise.cuda(), fixed_noise.cuda()\n",
        "    one_hot_labels = one_hot_labels.cuda()\n",
        "    fixed_labels = fixed_labels.cuda()\n",
        "\n",
        "    \n",
        "    \n",
        "    \n",
        "    "
      ],
      "execution_count": 0,
      "outputs": []
    },
    {
      "metadata": {
        "id": "-flY_dUBemfo",
        "colab_type": "code",
        "colab": {}
      },
      "cell_type": "code",
      "source": [
        "optim_d = optim.SGD(model_d.parameters(), lr=lr)\n",
        "optim_g = optim.SGD(model_g.parameters(), lr=lr)\n",
        "fixed_noise = Variable(fixed_noise)\n",
        "fixed_labels = Variable(fixed_labels)\n",
        "\n",
        "real_label = 1\n",
        "fake_label = 0"
      ],
      "execution_count": 0,
      "outputs": []
    },
    {
      "metadata": {
        "id": "TTSyXpV3bX_D",
        "colab_type": "code",
        "outputId": "08be26ed-e6d4-4149-fd4c-6243c85d6de5",
        "colab": {
          "base_uri": "https://localhost:8080/",
          "height": 819
        }
      },
      "cell_type": "code",
      "source": [
        "\"\"\"\n",
        "main training process\n",
        "\"\"\"\n",
        "n_epochs=10\n",
        "print_every_batch = 200\n",
        "for epoch_idx in range(n_epochs):\n",
        "    d_loss = 0.0\n",
        "    g_loss = 0.0\n",
        "    for batch_idx, (train_x, train_y) in enumerate(train_loader):\n",
        "        batch_size = train_x.size(0)\n",
        "        train_x = train_x.view(-1, INPUT_SIZE)\n",
        "        if cuda:\n",
        "            train_x = train_x.cuda()\n",
        "            train_y = train_y.cuda()\n",
        "        \n",
        "        input.resize_as_(train_x).copy_(train_x)\n",
        "        label.resize_(batch_size).fill_(real_label)\n",
        "        one_hot_labels.resize_(batch_size, NUM_LABELS).zero_()\n",
        "        one_hot_labels.scatter_(1, train_y.view(batch_size,1), 1)\n",
        "        inputv = Variable(input)\n",
        "        labelv = Variable(label)\n",
        "\n",
        "        output = model_d(inputv, Variable(one_hot_labels))\n",
        "        optim_d.zero_grad()\n",
        "        errD_real = criterion(output, labelv)\n",
        "        errD_real.backward()\n",
        "        realD_mean = output.data.cpu().mean()\n",
        "        \n",
        "        \n",
        "        \n",
        "        one_hot_labels.zero_()\n",
        "        rand_y = torch.from_numpy(\n",
        "            np.random.randint(0, NUM_LABELS, size=(batch_size,1))).cuda()\n",
        "        one_hot_labels.scatter_(1, rand_y.view(batch_size,1), 1)\n",
        "        noise.resize_(batch_size, noise_dim).normal_(0,1)\n",
        "        label.resize_(batch_size).fill_(fake_label)\n",
        "        noisev = Variable(noise)\n",
        "        labelv = Variable(label)\n",
        "        onehotv = Variable(one_hot_labels)\n",
        "        g_out = model_g(noisev, onehotv)\n",
        "        output = model_d(g_out, onehotv)\n",
        "        errD_fake = criterion(output, labelv)\n",
        "        fakeD_mean = output.data.cpu().mean()\n",
        "        errD = errD_real + errD_fake\n",
        "        errD_fake.backward()\n",
        "        optim_d.step()\n",
        "        \n",
        "\n",
        "                # train the G\n",
        "        noise.normal_(0,1)\n",
        "        one_hot_labels.zero_()\n",
        "        rand_y = torch.from_numpy(\n",
        "            np.random.randint(0, NUM_LABELS, size=(batch_size,1))).cuda()\n",
        "        one_hot_labels.scatter_(1, rand_y.view(batch_size,1), 1)\n",
        "        label.resize_(batch_size).fill_(real_label)\n",
        "        onehotv = Variable(one_hot_labels)\n",
        "        noisev = Variable(noise)\n",
        "        labelv = Variable(label)\n",
        "        g_out = model_g(noisev, onehotv)\n",
        "        output = model_d(g_out, onehotv)\n",
        "        errG = criterion(output, labelv)\n",
        "        optim_g.zero_grad()\n",
        "        errG.backward()\n",
        "        optim_g.step()\n",
        "        \n",
        "        \n",
        "        # use torch tensor.data doesnt support index\n",
        "        # use .item()\n",
        "        d_loss += errD.data.item()\n",
        "        g_loss += errG.data.item()\n",
        "        if batch_idx % print_every_batch == 0:\n",
        "            print(\"\\t{} ({} / {}) mean D(fake) = {:.4f}, mean D(real) = {:.4f}\".\n",
        "                format(epoch_idx, batch_idx, len(train_loader), fakeD_mean,realD_mean))\n",
        "            g_out = model_g(fixed_noise, fixed_labels).data.view(SAMPLE_SIZE, 1, 28,28).cpu()\n",
        "    print('Epoch {} - D loss = {:.4f}, G loss = {:.4f}'.format(epoch_idx,d_loss, g_loss))"
      ],
      "execution_count": 120,
      "outputs": [
        {
          "output_type": "stream",
          "text": [
            "/usr/local/lib/python3.6/dist-packages/torch/nn/functional.py:2016: UserWarning: Using a target size (torch.Size([128])) that is different to the input size (torch.Size([128, 1])) is deprecated. Please ensure they have the same size.\n",
            "  \"Please ensure they have the same size.\".format(target.size(), input.size()))\n"
          ],
          "name": "stderr"
        },
        {
          "output_type": "stream",
          "text": [
            "\t0 (0 / 469) mean D(fake) = 0.5198, mean D(real) = 0.5016\n",
            "\t0 (200 / 469) mean D(fake) = 0.4953, mean D(real) = 0.5261\n",
            "\t0 (400 / 469) mean D(fake) = 0.4666, mean D(real) = 0.4779\n"
          ],
          "name": "stdout"
        },
        {
          "output_type": "stream",
          "text": [
            "/usr/local/lib/python3.6/dist-packages/torch/nn/functional.py:2016: UserWarning: Using a target size (torch.Size([96])) that is different to the input size (torch.Size([96, 1])) is deprecated. Please ensure they have the same size.\n",
            "  \"Please ensure they have the same size.\".format(target.size(), input.size()))\n"
          ],
          "name": "stderr"
        },
        {
          "output_type": "stream",
          "text": [
            "Epoch 0 - D loss = 660.6104, G loss = 413.7406\n",
            "\t1 (0 / 469) mean D(fake) = 0.2506, mean D(real) = 0.3772\n",
            "\t1 (200 / 469) mean D(fake) = 0.6226, mean D(real) = 0.7158\n",
            "\t1 (400 / 469) mean D(fake) = 0.7230, mean D(real) = 0.9718\n",
            "Epoch 1 - D loss = 486.4936, G loss = 601.0273\n",
            "\t2 (0 / 469) mean D(fake) = 0.2086, mean D(real) = 0.8037\n",
            "\t2 (200 / 469) mean D(fake) = 0.0873, mean D(real) = 0.5245\n",
            "\t2 (400 / 469) mean D(fake) = 0.0919, mean D(real) = 0.7040\n",
            "Epoch 2 - D loss = 348.1879, G loss = 894.3997\n",
            "\t3 (0 / 469) mean D(fake) = 0.1575, mean D(real) = 0.6556\n",
            "\t3 (200 / 469) mean D(fake) = 0.1794, mean D(real) = 0.7181\n",
            "\t3 (400 / 469) mean D(fake) = 0.2341, mean D(real) = 0.7248\n",
            "Epoch 3 - D loss = 365.3358, G loss = 887.5820\n",
            "\t4 (0 / 469) mean D(fake) = 0.6086, mean D(real) = 0.9220\n",
            "\t4 (200 / 469) mean D(fake) = 0.1684, mean D(real) = 0.7396\n",
            "\t4 (400 / 469) mean D(fake) = 0.3243, mean D(real) = 0.8152\n",
            "Epoch 4 - D loss = 376.8078, G loss = 853.4461\n",
            "\t5 (0 / 469) mean D(fake) = 0.2926, mean D(real) = 0.8108\n",
            "\t5 (200 / 469) mean D(fake) = 0.3368, mean D(real) = 0.8299\n",
            "\t5 (400 / 469) mean D(fake) = 0.3110, mean D(real) = 0.7720\n",
            "Epoch 5 - D loss = 364.9642, G loss = 897.6749\n",
            "\t6 (0 / 469) mean D(fake) = 0.2121, mean D(real) = 0.6990\n",
            "\t6 (200 / 469) mean D(fake) = 0.3384, mean D(real) = 0.8386\n",
            "\t6 (400 / 469) mean D(fake) = 0.2002, mean D(real) = 0.7197\n",
            "Epoch 6 - D loss = 386.4020, G loss = 855.4516\n",
            "\t7 (0 / 469) mean D(fake) = 0.3327, mean D(real) = 0.5541\n",
            "\t7 (200 / 469) mean D(fake) = 0.1178, mean D(real) = 0.5315\n",
            "\t7 (400 / 469) mean D(fake) = 0.3855, mean D(real) = 0.8043\n",
            "Epoch 7 - D loss = 412.4593, G loss = 746.7041\n",
            "\t8 (0 / 469) mean D(fake) = 0.1249, mean D(real) = 0.5646\n",
            "\t8 (200 / 469) mean D(fake) = 0.3648, mean D(real) = 0.8721\n",
            "\t8 (400 / 469) mean D(fake) = 0.3217, mean D(real) = 0.8835\n",
            "Epoch 8 - D loss = 377.3213, G loss = 867.8485\n",
            "\t9 (0 / 469) mean D(fake) = 0.2325, mean D(real) = 0.7429\n",
            "\t9 (200 / 469) mean D(fake) = 0.1777, mean D(real) = 0.6091\n",
            "\t9 (400 / 469) mean D(fake) = 0.1608, mean D(real) = 0.7276\n",
            "Epoch 9 - D loss = 339.9258, G loss = 962.1679\n"
          ],
          "name": "stdout"
        }
      ]
    },
    {
      "metadata": {
        "id": "PinwXqmYf9NV",
        "colab_type": "code",
        "outputId": "352703d9-7b66-4e44-875d-3ea76e0717fe",
        "colab": {
          "base_uri": "https://localhost:8080/",
          "height": 35
        }
      },
      "cell_type": "code",
      "source": [
        "## sampling fixed labels\n",
        "#g_out = model_g(fixed_noise, fixed_labels).data.view(SAMPLE_SIZE, 1, 28,28).cpu()\n",
        "fixed_noise.shape,fixed_labels.shape\n"
      ],
      "execution_count": 31,
      "outputs": [
        {
          "output_type": "execute_result",
          "data": {
            "text/plain": [
              "torch.Size([10, 1, 28, 28])"
            ]
          },
          "metadata": {
            "tags": []
          },
          "execution_count": 31
        }
      ]
    },
    {
      "metadata": {
        "id": "wqYQXHZxiv4N",
        "colab_type": "code",
        "colab": {}
      },
      "cell_type": "code",
      "source": [
        "\n",
        "def plot_sample(model_g):\n",
        "    plt.clf()\n",
        "    plt.close()\n",
        "    \"\"\"\n",
        "    @input param: takes in generator model with weights\n",
        "    @output: plot images of all labels\n",
        "    \n",
        "    @model_g: takes in gaussian noise of nz (hyperparameter) and label (one-hot encoded) \n",
        "    \"\"\"\n",
        "    noise = torch.FloatTensor(10, noise_dim).normal_(0,1).cuda()\n",
        "    labels = torch.zeros(10,10).cuda()\n",
        "    for i in range(10):\n",
        "        labels[i][i]=1\n",
        "    g_out=model_g(noise,labels).data.view(10,1,28,28).cpu()\n",
        "    plt.clf()\n",
        "    plt.style.use('seaborn-muted')\n",
        "    fig, axes = plt.subplots(2,5, \n",
        "                             figsize=(10,5),\n",
        "                             sharex=True, sharey=True,\n",
        "                             subplot_kw=dict(aspect='equal')) #https://stackoverflow.com/q/44703433/1870832\n",
        "    img_to_plt=g_out.shape[0]\n",
        "    for i in range(img_to_plt):\n",
        "        # axes (subplot) objects are stored in 2d array, accessed with axes[row,col]\n",
        "        # first // row , 2nd % row - to implement\n",
        "        subplot_row = i//5\n",
        "        subplot_col = i%5\n",
        "        ax = axes[subplot_row, subplot_col]\n",
        "        # plot image on subplot\n",
        "        plottable_image = np.reshape(g_out.numpy()[i,:], (28,28))\n",
        "        ax.imshow(plottable_image, cmap='gray_r')\n",
        "\n",
        "        ax.set_title('Digit Label: {}'.format(np.where(labels.cpu().numpy()[i]==1)[0]))\n",
        "        ax.set_xbound([0,28])\n",
        "    plt.show()\n"
      ],
      "execution_count": 0,
      "outputs": []
    },
    {
      "metadata": {
        "id": "uM5bdJkyk2jC",
        "colab_type": "code",
        "outputId": "a3290c2d-bf70-4f98-ad63-d21c0c0425ee",
        "colab": {
          "base_uri": "https://localhost:8080/",
          "height": 325
        }
      },
      "cell_type": "code",
      "source": [
        "plot_sample(model_g)\n",
        "plt.clf()\n",
        "plt.close()"
      ],
      "execution_count": 130,
      "outputs": [
        {
          "output_type": "display_data",
          "data": {
            "text/plain": [
              "<Figure size 432x288 with 0 Axes>"
            ]
          },
          "metadata": {
            "tags": []
          }
        },
        {
          "output_type": "display_data",
          "data": {
            "image/png": "[encoded data removed]",
            "text/plain": [
              "<Figure size 720x360 with 10 Axes>"
            ]
          },
          "metadata": {
            "tags": []
          }
        }
      ]
    },
    {
      "metadata": {
        "id": "fuSTeRUclPW6",
        "colab_type": "code",
        "colab": {}
      },
      "cell_type": "code",
      "source": [
        ""
      ],
      "execution_count": 0,
      "outputs": []
    },
    {
      "metadata": {
        "id": "Kiow6iYilS-B",
        "colab_type": "code",
        "colab": {}
      },
      "cell_type": "code",
      "source": [
        ""
      ],
      "execution_count": 0,
      "outputs": []
    },
    {
      "metadata": {
        "id": "gc2gahItlaOH",
        "colab_type": "code",
        "colab": {}
      },
      "cell_type": "code",
      "source": [
        ""
      ],
      "execution_count": 0,
      "outputs": []
    }
  ]
}